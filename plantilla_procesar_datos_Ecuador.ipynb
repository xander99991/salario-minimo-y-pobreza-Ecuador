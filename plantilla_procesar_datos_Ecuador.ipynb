{
 "cells": [
  {
   "cell_type": "code",
   "execution_count": 1,
   "metadata": {},
   "outputs": [],
   "source": [
    "import numpy as np\n",
    "import pandas as pd "
   ]
  },
  {
   "cell_type": "markdown",
   "metadata": {},
   "source": [
    "numpay y pandas son librerias  fccc"
   ]
  },
  {
   "cell_type": "markdown",
   "metadata": {},
   "source": [
    "# Plantilla\n",
    "\n",
    "Es necesario ajustar las definiciones, las fuentes de los datos y posiblemente definiciones si la ENEMDU tiene una dimensión geográfica y temporal al mismo tiempo"
   ]
  },
  {
   "cell_type": "code",
   "execution_count": null,
   "metadata": {},
   "outputs": [],
   "source": [
    "data = pd.read_csv('datos/archivo.csv') # para datos csv\n",
    "data = pd.read_stata('datos/archivo.dta') # para bases de stata"
   ]
  },
  {
   "cell_type": "markdown",
   "metadata": {},
   "source": [
    "## Revisar los datos"
   ]
  },
  {
   "cell_type": "code",
   "execution_count": null,
   "metadata": {},
   "outputs": [],
   "source": [
    "data.describe"
   ]
  },
  {
   "cell_type": "code",
   "execution_count": null,
   "metadata": {},
   "outputs": [],
   "source": [
    "data.types"
   ]
  },
  {
   "cell_type": "code",
   "execution_count": null,
   "metadata": {},
   "outputs": [],
   "source": [
    "data.info()"
   ]
  },
  {
   "cell_type": "markdown",
   "metadata": {},
   "source": [
    "## Corregimos los valores de ser necesario"
   ]
  },
  {
   "cell_type": "code",
   "execution_count": null,
   "metadata": {},
   "outputs": [],
   "source": [
    "# Llenar valores perdidos con un dato (0)\n",
    "data['columna'] = data['columna'].fillna(0)"
   ]
  },
  {
   "cell_type": "markdown",
   "metadata": {},
   "source": [
    "## Calculamos ingreso bruto por persona"
   ]
  },
  {
   "cell_type": "code",
   "execution_count": null,
   "metadata": {},
   "outputs": [],
   "source": [
    "data['ingr_b'] = data['ingreso trabajo principal'] + data['ingreso trabajo secundario']\n",
    "data['ingr_b'].mean()"
   ]
  },
  {
   "cell_type": "markdown",
   "metadata": {},
   "source": [
    "## Deflactamos el ingreso"
   ]
  },
  {
   "cell_type": "code",
   "execution_count": null,
   "metadata": {},
   "outputs": [],
   "source": [
    "# Cargamos los datos del ipc mensual de Ecuador para el año usado\n",
    "ipc = np.array([])\n",
    "# Elegimos el año base\n",
    "ipcb = 100"
   ]
  },
  {
   "cell_type": "code",
   "execution_count": null,
   "metadata": {},
   "outputs": [],
   "source": [
    "# Asigna el IPC a cada mes\n",
    "data['ipc'] = data['mes'].map(lambda x: ipc[x-1])\n",
    "\n",
    "# Calculamos el deflactor\n",
    "data['def'] = data['ipc']/ipcb\n",
    "data['ingr_r'] = data['ingr_b'] * data['def']"
   ]
  },
  {
   "cell_type": "markdown",
   "metadata": {},
   "source": [
    "## Calculo ingreso de los hogares"
   ]
  },
  {
   "cell_type": "code",
   "execution_count": null,
   "metadata": {},
   "outputs": [],
   "source": [
    "data['ingr_h'] = data.groupby('identificador hogares')['ingr_r'].transform('sum')"
   ]
  },
  {
   "cell_type": "markdown",
   "metadata": {},
   "source": [
    "## Sacamos edades negativas, mayores a 100 años y menores de 10"
   ]
  },
  {
   "cell_type": "code",
   "execution_count": null,
   "metadata": {},
   "outputs": [],
   "source": [
    "data = data.loc[(data['edad'] > 10) & (data['edad'] < 100)]"
   ]
  },
  {
   "cell_type": "markdown",
   "metadata": {},
   "source": [
    "## Ingreso descontando cargas familiares\n",
    "\n",
    "Utilizando la metodología del autor dividimos el ingreso del hogar para la escala $(A_{i}+kC_{i})^{s}$ donde $A_{i}$ es al número de adultos, $C_{i}$ es el número de niños en el hogar $i$. $k$ es el costo en recursos de cada niño y $s$ busca reflejar las restricciones"
   ]
  },
  {
   "cell_type": "code",
   "execution_count": null,
   "metadata": {},
   "outputs": [],
   "source": [
    "k = 0.4\n",
    "s = 0.9"
   ]
  },
  {
   "cell_type": "code",
   "execution_count": null,
   "metadata": {},
   "outputs": [],
   "source": [
    "# Si es necesario calcular el número de niños\n",
    "data['es_nino'] = data['edad'] < 10\n",
    "\n",
    "data['ninos'] = data.groupby('identificador hogares')['es_nino'].transform('sum')\n",
    "\n",
    "# Si es necesario calcular el número de adultos\n",
    "data['es_adulto'] = data['edad'] > 10\n",
    "\n",
    "data['adultos'] = data.groupby('identificador hogares')['es_adulto'].transform('sum')"
   ]
  },
  {
   "cell_type": "code",
   "execution_count": null,
   "metadata": {},
   "outputs": [],
   "source": [
    "data['escala'] = (data['adultos'] + k * data['ninos']) ** s"
   ]
  },
  {
   "cell_type": "code",
   "execution_count": null,
   "metadata": {},
   "outputs": [],
   "source": [
    "data['ingr_t'] = data['ingr_h'] / data['escala']"
   ]
  },
  {
   "cell_type": "markdown",
   "metadata": {},
   "source": [
    "## Umbrales de pobreza\n",
    "\n",
    "Incluimos los índices de pobreza si es posible a nivel regional para luego poder utilizar de mejor forma el factor de expansión"
   ]
  },
  {
   "cell_type": "code",
   "execution_count": null,
   "metadata": {},
   "outputs": [],
   "source": [
    "pobr = np.array()\n",
    "\n",
    "# Asigna el umbral a cada región\n",
    "data['umbral'] = data['región'].map(lambda x: pobr[x])"
   ]
  },
  {
   "cell_type": "markdown",
   "metadata": {},
   "source": [
    "## Cálculo del índice de pobreza de Foster, Greer y Thorbecke\n",
    "\n",
    "Para calcular un ínidce de pobreza se utiliza a Foster, Greer y Thorbecke (1984), ya que satisface algunas caracterísitcas de distribución que son positivas e igual a las enunciadas por Sen, el autor usa el mismo índice."
   ]
  },
  {
   "cell_type": "markdown",
   "metadata": {},
   "source": [
    "$FGT_{\\alpha} = \\frac{1}{N}\\sum_{i=1}^{H}\\left(\\frac{z-y_{i}}{z}\\right)^{\\alpha} $\n",
    "\n",
    "Donde $z$ es el umbral de pobreza, $N$ es el número de personas en la economía, $H$ es el número de pobres (personas debajo de la línea de pobreza) $y_{i}$ es el ingreso de cada individuo. Mientras mayor es el valor de $\\alpha$ mayor es el peso de los individuos más pobres, mayor $FGT$ mayor pobreza en la economía."
   ]
  },
  {
   "cell_type": "code",
   "execution_count": null,
   "metadata": {},
   "outputs": [],
   "source": [
    "# Buscamos a los que están por debajo del umbral de pobreza\n",
    "data['pobres'] = (data['ingr_t'] - data['umbral']) < 0\n",
    "\n",
    "# Cantidad de pobres por región\n",
    "data['pobres_region'] = data.groupby('identificador_region')['pobres'].transform('sum')\n",
    "\n",
    "# Cantidad de personas por región\n",
    "data['personas'] = data.groupby('identificador_region')['identificador persona'].transform('sum')"
   ]
  },
  {
   "cell_type": "code",
   "execution_count": 8,
   "metadata": {},
   "outputs": [],
   "source": [
    "# Cálculo del FGT para alpha 0,1 y 2 dependiendo de las dimensiones de la ENEMDU..."
   ]
  },
  {
   "cell_type": "markdown",
   "metadata": {},
   "source": [
    "## Calculo del ínidce de desigualdad de Atkinson\n",
    "\n",
    "Vamos a calcular el índice de desigualdad de atkinson con un parámetro $\\epsilon$ de aversión a la desigualdad y un $\\mu$ que es igual a la media de los ingresos individuales, con la siguiente fórmula."
   ]
  },
  {
   "cell_type": "markdown",
   "metadata": {},
   "source": [
    "$A = 1-\\frac{1}{\\mu}\\left(\\frac{1}{N}\\sum_{i=1}^{N}y^{1-\\epsilon}\\right)^{1/(1-\\epsilon}$\n",
    "\n",
    "Donde $y_{i}$ es el ingreso individual y $\\mu$ es el ingreso medio"
   ]
  },
  {
   "cell_type": "code",
   "execution_count": null,
   "metadata": {},
   "outputs": [],
   "source": [
    "# Ingreso promedio por región\n",
    "data['mu'] = data.groupby('identificador_region')['ingr_t'].transform('mean')"
   ]
  },
  {
   "cell_type": "code",
   "execution_count": 9,
   "metadata": {},
   "outputs": [],
   "source": [
    "# Cálculo del A para epsilon 0.25, 0.5 y 0.75 dependiendo de las dimensiones de la ENEMDU..."
   ]
  }
 ],
 "metadata": {
  "kernelspec": {
   "display_name": "Python 3",
   "language": "python",
   "name": "python3"
  },
  "language_info": {
   "codemirror_mode": {
    "name": "ipython",
    "version": 3
   },
   "file_extension": ".py",
   "mimetype": "text/x-python",
   "name": "python",
   "nbconvert_exporter": "python",
   "pygments_lexer": "ipython3",
   "version": "3.12.6"
  }
 },
 "nbformat": 4,
 "nbformat_minor": 2
}
